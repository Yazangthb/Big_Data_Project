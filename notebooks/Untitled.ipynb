{
 "cells": [
  {
   "cell_type": "code",
   "execution_count": 1,
   "id": "6aca07a8-5936-4385-af52-62f4f89237d5",
   "metadata": {},
   "outputs": [
    {
     "ename": "ModuleNotFoundError",
     "evalue": "No module named 'hivejdbc'",
     "output_type": "error",
     "traceback": [
      "\u001b[0;31m---------------------------------------------------------------------------\u001b[0m",
      "\u001b[0;31mModuleNotFoundError\u001b[0m                       Traceback (most recent call last)",
      "Cell \u001b[0;32mIn[1], line 1\u001b[0m\n\u001b[0;32m----> 1\u001b[0m \u001b[38;5;28;01mfrom\u001b[39;00m\u001b[38;5;250m \u001b[39m\u001b[38;5;21;01mhivejdbc\u001b[39;00m\u001b[38;5;250m \u001b[39m\u001b[38;5;28;01mimport\u001b[39;00m connect, DictCursor\n\u001b[1;32m      2\u001b[0m \u001b[38;5;28;01mimport\u001b[39;00m\u001b[38;5;250m \u001b[39m\u001b[38;5;21;01mos\u001b[39;00m\n\u001b[1;32m      5\u001b[0m \u001b[38;5;66;03m# # Read password from secrets file\u001b[39;00m\n\u001b[1;32m      6\u001b[0m \u001b[38;5;66;03m# file = os.path.join(\"secrets\", \".hive.pass\")\u001b[39;00m\n\u001b[1;32m      7\u001b[0m \u001b[38;5;66;03m# with open(file, \"r\") as file:\u001b[39;00m\n\u001b[1;32m      8\u001b[0m \u001b[38;5;66;03m#         password=file.read().rstrip()\u001b[39;00m\n\u001b[1;32m      9\u001b[0m         \n\u001b[1;32m     10\u001b[0m \u001b[38;5;66;03m# Connect to HS2\u001b[39;00m\n",
      "\u001b[0;31mModuleNotFoundError\u001b[0m: No module named 'hivejdbc'"
     ]
    }
   ],
   "source": [
    "from hivejdbc import connect, DictCursor\n",
    "import os\n",
    "\n",
    "\n",
    "# # Read password from secrets file\n",
    "# file = os.path.join(\"secrets\", \".hive.pass\")\n",
    "# with open(file, \"r\") as file:\n",
    "#         password=file.read().rstrip()\n",
    "        \n",
    "# Connect to HS2\n",
    "conn = connect(\n",
    "    host='hadoop-03.uni.innopolis.ru',\n",
    "    port=10001,\n",
    "    driver=\"/shared/hive-jdbc-3.1.3-standalone.jar\",\n",
    "    database='default',\n",
    "    user='teamx',\n",
    "    password='hgVwomtl0OIAe7cF'\n",
    ")\n",
    "\n",
    "\n",
    "# Create a cursor\n",
    "cur = conn.cursor()\n",
    "\n",
    "# Execute one statement\n",
    "cur.execute(\"SHOW DATABASES\")\n",
    "\n",
    "\n",
    "# Here we assume that this code is written in scripts/ or notebooks/ folder in the repository folder\n",
    "repo_folder = os.path.join(\".\")\n",
    "file_path = os.path.join(repo_folder, \"sql\", \"db.hql\")\n",
    "\n",
    "\n",
    "# Read line by line\n",
    "with open(file_path) as file:\n",
    "    for line in file.readlines():\n",
    "        \n",
    "        # see note below\n",
    "        line = line.replace(\";\", \"\")\n",
    "        try:\n",
    "            cur.execute(line)\n",
    "            print(cur.fetchall())\n",
    "        except:\n",
    "            pass"
   ]
  },
  {
   "cell_type": "code",
   "execution_count": 2,
   "id": "992ad959-4397-4e76-a33c-468ad64c6598",
   "metadata": {},
   "outputs": [
    {
     "name": "stdout",
     "output_type": "stream",
     "text": [
      "Defaulting to user installation because normal site-packages is not writeable\n",
      "Collecting hivejdbc\n",
      "  Downloading hivejdbc-0.2.3-py3-none-any.whl (13 kB)\n",
      "Collecting pyjdbc==0.2.2\n",
      "  Downloading pyjdbc-0.2.2-py3-none-any.whl (27 kB)\n",
      "Collecting JPype1>=1.0.1\n",
      "  Downloading JPype1-1.3.0-cp36-cp36m-manylinux_2_5_x86_64.manylinux1_x86_64.whl (448 kB)\n",
      "     |████████████████████████████████| 448 kB 1.4 MB/s            \n",
      "\u001b[?25hCollecting sqlparams>=3.0.0\n",
      "  Downloading sqlparams-4.0.0-py3-none-any.whl (14 kB)\n",
      "Requirement already satisfied: typing-extensions in /usr/local/lib/python3.6/site-packages (from JPype1>=1.0.1->pyjdbc==0.2.2->hivejdbc) (4.1.1)\n",
      "Installing collected packages: sqlparams, JPype1, pyjdbc, hivejdbc\n",
      "Successfully installed JPype1-1.3.0 hivejdbc-0.2.3 pyjdbc-0.2.2 sqlparams-4.0.0\n"
     ]
    }
   ],
   "source": [
    "!pip install hivejdbc"
   ]
  },
  {
   "cell_type": "code",
   "execution_count": null,
   "id": "2190a0ac-50d5-4518-804c-4814e0b87e73",
   "metadata": {},
   "outputs": [],
   "source": []
  }
 ],
 "metadata": {
  "kernelspec": {
   "display_name": "Pyspark 3.10",
   "language": "python",
   "name": "python3.10"
  },
  "language_info": {
   "codemirror_mode": {
    "name": "ipython",
    "version": 3
   },
   "file_extension": ".py",
   "mimetype": "text/x-python",
   "name": "python",
   "nbconvert_exporter": "python",
   "pygments_lexer": "ipython3",
   "version": "3.10.0"
  }
 },
 "nbformat": 4,
 "nbformat_minor": 5
}
